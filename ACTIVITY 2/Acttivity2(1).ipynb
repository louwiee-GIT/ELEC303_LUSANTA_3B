{
 "cells": [
  {
   "cell_type": "markdown",
   "id": "ab4af909-1d05-44f2-b566-e22c2560d3a8",
   "metadata": {},
   "source": [
    "<h1>ACTIVITY 2 : UK ROAD ACCIDENT</h1><hr>"
   ]
  },
  {
   "cell_type": "markdown",
   "id": "04aea639-57ea-4ee3-9328-7e94e94b9cb0",
   "metadata": {},
   "source": [
    "<h3>Analyst : Lusanta , Louie John V.</h3>"
   ]
  },
  {
   "cell_type": "markdown",
   "id": "ce99f911-e511-4b14-881e-702b7394478c",
   "metadata": {},
   "source": [
    "<h2>IMPORT NECESSARY LIBRARIES</h2>"
   ]
  },
  {
   "cell_type": "code",
   "execution_count": 1,
   "id": "c83fc4bf-7876-43de-a969-e09df9049172",
   "metadata": {},
   "outputs": [],
   "source": [
    "#import libraries\n",
    "import numpy as np\n",
    "import pandas as pd\n",
    "import warnings\n",
    "warnings.filterwarnings('ignore')"
   ]
  },
  {
   "cell_type": "code",
   "execution_count": null,
   "id": "38daa251-edae-4d8a-b042-55d9b015995b",
   "metadata": {},
   "outputs": [],
   "source": []
  },
  {
   "cell_type": "markdown",
   "id": "cf14cb27-4b10-4393-8af6-49d23329273d",
   "metadata": {},
   "source": [
    "<h2>CONVERT DATASET TO DATAFRAME</h2>"
   ]
  },
  {
   "cell_type": "code",
   "execution_count": 2,
   "id": "0f201e76-f409-45fc-90c3-a018e7b5bcce",
   "metadata": {},
   "outputs": [
    {
     "data": {
      "text/html": [
       "<div>\n",
       "<style scoped>\n",
       "    .dataframe tbody tr th:only-of-type {\n",
       "        vertical-align: middle;\n",
       "    }\n",
       "\n",
       "    .dataframe tbody tr th {\n",
       "        vertical-align: top;\n",
       "    }\n",
       "\n",
       "    .dataframe thead th {\n",
       "        text-align: right;\n",
       "    }\n",
       "</style>\n",
       "<table border=\"1\" class=\"dataframe\">\n",
       "  <thead>\n",
       "    <tr style=\"text-align: right;\">\n",
       "      <th></th>\n",
       "      <th>Index</th>\n",
       "      <th>Accident_Severity</th>\n",
       "      <th>Accident Date</th>\n",
       "      <th>Latitude</th>\n",
       "      <th>Light_Conditions</th>\n",
       "      <th>District Area</th>\n",
       "      <th>Longitude</th>\n",
       "      <th>Number_of_Casualties</th>\n",
       "      <th>Number_of_Vehicles</th>\n",
       "      <th>Road_Surface_Conditions</th>\n",
       "      <th>Road_Type</th>\n",
       "      <th>Urban_or_Rural_Area</th>\n",
       "      <th>Weather_Conditions</th>\n",
       "      <th>Vehicle_Type</th>\n",
       "    </tr>\n",
       "  </thead>\n",
       "  <tbody>\n",
       "    <tr>\n",
       "      <th>0</th>\n",
       "      <td>200701BS64157</td>\n",
       "      <td>Serious</td>\n",
       "      <td>5/6/2019</td>\n",
       "      <td>51.506187</td>\n",
       "      <td>Darkness - lights lit</td>\n",
       "      <td>Kensington and Chelsea</td>\n",
       "      <td>-0.209082</td>\n",
       "      <td>1</td>\n",
       "      <td>2</td>\n",
       "      <td>Dry</td>\n",
       "      <td>Single carriageway</td>\n",
       "      <td>Urban</td>\n",
       "      <td>Fine no high winds</td>\n",
       "      <td>Car</td>\n",
       "    </tr>\n",
       "    <tr>\n",
       "      <th>1</th>\n",
       "      <td>200701BS65737</td>\n",
       "      <td>Serious</td>\n",
       "      <td>2/7/2019</td>\n",
       "      <td>51.495029</td>\n",
       "      <td>Daylight</td>\n",
       "      <td>Kensington and Chelsea</td>\n",
       "      <td>-0.173647</td>\n",
       "      <td>1</td>\n",
       "      <td>2</td>\n",
       "      <td>Wet or damp</td>\n",
       "      <td>Single carriageway</td>\n",
       "      <td>Urban</td>\n",
       "      <td>Raining no high winds</td>\n",
       "      <td>Car</td>\n",
       "    </tr>\n",
       "    <tr>\n",
       "      <th>2</th>\n",
       "      <td>200701BS66127</td>\n",
       "      <td>Serious</td>\n",
       "      <td>26-08-2019</td>\n",
       "      <td>51.517715</td>\n",
       "      <td>Darkness - lighting unknown</td>\n",
       "      <td>Kensington and Chelsea</td>\n",
       "      <td>-0.210215</td>\n",
       "      <td>1</td>\n",
       "      <td>3</td>\n",
       "      <td>Dry</td>\n",
       "      <td>NaN</td>\n",
       "      <td>Urban</td>\n",
       "      <td>NaN</td>\n",
       "      <td>Taxi/Private hire car</td>\n",
       "    </tr>\n",
       "    <tr>\n",
       "      <th>3</th>\n",
       "      <td>200701BS66128</td>\n",
       "      <td>Serious</td>\n",
       "      <td>16-08-2019</td>\n",
       "      <td>51.495478</td>\n",
       "      <td>Daylight</td>\n",
       "      <td>Kensington and Chelsea</td>\n",
       "      <td>-0.202731</td>\n",
       "      <td>1</td>\n",
       "      <td>4</td>\n",
       "      <td>Dry</td>\n",
       "      <td>Single carriageway</td>\n",
       "      <td>Urban</td>\n",
       "      <td>Fine no high winds</td>\n",
       "      <td>Bus or coach (17 or more pass seats)</td>\n",
       "    </tr>\n",
       "    <tr>\n",
       "      <th>4</th>\n",
       "      <td>200701BS66837</td>\n",
       "      <td>Slight</td>\n",
       "      <td>3/9/2019</td>\n",
       "      <td>51.488576</td>\n",
       "      <td>Darkness - lights lit</td>\n",
       "      <td>Kensington and Chelsea</td>\n",
       "      <td>-0.192487</td>\n",
       "      <td>1</td>\n",
       "      <td>2</td>\n",
       "      <td>Dry</td>\n",
       "      <td>NaN</td>\n",
       "      <td>Urban</td>\n",
       "      <td>NaN</td>\n",
       "      <td>Other vehicle</td>\n",
       "    </tr>\n",
       "    <tr>\n",
       "      <th>...</th>\n",
       "      <td>...</td>\n",
       "      <td>...</td>\n",
       "      <td>...</td>\n",
       "      <td>...</td>\n",
       "      <td>...</td>\n",
       "      <td>...</td>\n",
       "      <td>...</td>\n",
       "      <td>...</td>\n",
       "      <td>...</td>\n",
       "      <td>...</td>\n",
       "      <td>...</td>\n",
       "      <td>...</td>\n",
       "      <td>...</td>\n",
       "      <td>...</td>\n",
       "    </tr>\n",
       "    <tr>\n",
       "      <th>660674</th>\n",
       "      <td>201091NM01760</td>\n",
       "      <td>Slight</td>\n",
       "      <td>18-02-2022</td>\n",
       "      <td>57.374005</td>\n",
       "      <td>Daylight</td>\n",
       "      <td>Highland</td>\n",
       "      <td>-3.467828</td>\n",
       "      <td>2</td>\n",
       "      <td>1</td>\n",
       "      <td>Dry</td>\n",
       "      <td>Single carriageway</td>\n",
       "      <td>Rural</td>\n",
       "      <td>Fine no high winds</td>\n",
       "      <td>Car</td>\n",
       "    </tr>\n",
       "    <tr>\n",
       "      <th>660675</th>\n",
       "      <td>201091NM01881</td>\n",
       "      <td>Slight</td>\n",
       "      <td>21-02-2022</td>\n",
       "      <td>57.232273</td>\n",
       "      <td>Darkness - no lighting</td>\n",
       "      <td>Highland</td>\n",
       "      <td>-3.809281</td>\n",
       "      <td>1</td>\n",
       "      <td>1</td>\n",
       "      <td>Frost or ice</td>\n",
       "      <td>Single carriageway</td>\n",
       "      <td>Rural</td>\n",
       "      <td>Fine no high winds</td>\n",
       "      <td>Car</td>\n",
       "    </tr>\n",
       "    <tr>\n",
       "      <th>660676</th>\n",
       "      <td>201091NM01935</td>\n",
       "      <td>Slight</td>\n",
       "      <td>23-02-2022</td>\n",
       "      <td>57.585044</td>\n",
       "      <td>Daylight</td>\n",
       "      <td>Highland</td>\n",
       "      <td>-3.862727</td>\n",
       "      <td>1</td>\n",
       "      <td>3</td>\n",
       "      <td>Frost or ice</td>\n",
       "      <td>Single carriageway</td>\n",
       "      <td>Rural</td>\n",
       "      <td>Fine no high winds</td>\n",
       "      <td>Car</td>\n",
       "    </tr>\n",
       "    <tr>\n",
       "      <th>660677</th>\n",
       "      <td>201091NM01964</td>\n",
       "      <td>Serious</td>\n",
       "      <td>23-02-2022</td>\n",
       "      <td>57.214898</td>\n",
       "      <td>Darkness - no lighting</td>\n",
       "      <td>Highland</td>\n",
       "      <td>-3.823997</td>\n",
       "      <td>1</td>\n",
       "      <td>2</td>\n",
       "      <td>Wet or damp</td>\n",
       "      <td>Single carriageway</td>\n",
       "      <td>Rural</td>\n",
       "      <td>Fine no high winds</td>\n",
       "      <td>Motorcycle over 500cc</td>\n",
       "    </tr>\n",
       "    <tr>\n",
       "      <th>660678</th>\n",
       "      <td>201091NM02142</td>\n",
       "      <td>Serious</td>\n",
       "      <td>28-02-2022</td>\n",
       "      <td>57.575210</td>\n",
       "      <td>Daylight</td>\n",
       "      <td>Highland</td>\n",
       "      <td>-3.895673</td>\n",
       "      <td>1</td>\n",
       "      <td>1</td>\n",
       "      <td>Wet or damp</td>\n",
       "      <td>Dual carriageway</td>\n",
       "      <td>Rural</td>\n",
       "      <td>Snowing no high winds</td>\n",
       "      <td>Car</td>\n",
       "    </tr>\n",
       "  </tbody>\n",
       "</table>\n",
       "<p>660679 rows × 14 columns</p>\n",
       "</div>"
      ],
      "text/plain": [
       "                Index Accident_Severity Accident Date   Latitude  \\\n",
       "0       200701BS64157           Serious      5/6/2019  51.506187   \n",
       "1       200701BS65737           Serious      2/7/2019  51.495029   \n",
       "2       200701BS66127           Serious    26-08-2019  51.517715   \n",
       "3       200701BS66128           Serious    16-08-2019  51.495478   \n",
       "4       200701BS66837            Slight      3/9/2019  51.488576   \n",
       "...               ...               ...           ...        ...   \n",
       "660674  201091NM01760            Slight    18-02-2022  57.374005   \n",
       "660675  201091NM01881            Slight    21-02-2022  57.232273   \n",
       "660676  201091NM01935            Slight    23-02-2022  57.585044   \n",
       "660677  201091NM01964           Serious    23-02-2022  57.214898   \n",
       "660678  201091NM02142           Serious    28-02-2022  57.575210   \n",
       "\n",
       "                   Light_Conditions           District Area  Longitude  \\\n",
       "0             Darkness - lights lit  Kensington and Chelsea  -0.209082   \n",
       "1                          Daylight  Kensington and Chelsea  -0.173647   \n",
       "2       Darkness - lighting unknown  Kensington and Chelsea  -0.210215   \n",
       "3                          Daylight  Kensington and Chelsea  -0.202731   \n",
       "4             Darkness - lights lit  Kensington and Chelsea  -0.192487   \n",
       "...                             ...                     ...        ...   \n",
       "660674                     Daylight                Highland  -3.467828   \n",
       "660675       Darkness - no lighting                Highland  -3.809281   \n",
       "660676                     Daylight                Highland  -3.862727   \n",
       "660677       Darkness - no lighting                Highland  -3.823997   \n",
       "660678                     Daylight                Highland  -3.895673   \n",
       "\n",
       "        Number_of_Casualties  Number_of_Vehicles Road_Surface_Conditions  \\\n",
       "0                          1                   2                     Dry   \n",
       "1                          1                   2             Wet or damp   \n",
       "2                          1                   3                     Dry   \n",
       "3                          1                   4                     Dry   \n",
       "4                          1                   2                     Dry   \n",
       "...                      ...                 ...                     ...   \n",
       "660674                     2                   1                     Dry   \n",
       "660675                     1                   1            Frost or ice   \n",
       "660676                     1                   3            Frost or ice   \n",
       "660677                     1                   2             Wet or damp   \n",
       "660678                     1                   1             Wet or damp   \n",
       "\n",
       "                 Road_Type Urban_or_Rural_Area     Weather_Conditions  \\\n",
       "0       Single carriageway               Urban     Fine no high winds   \n",
       "1       Single carriageway               Urban  Raining no high winds   \n",
       "2                      NaN               Urban                    NaN   \n",
       "3       Single carriageway               Urban     Fine no high winds   \n",
       "4                      NaN               Urban                    NaN   \n",
       "...                    ...                 ...                    ...   \n",
       "660674  Single carriageway               Rural     Fine no high winds   \n",
       "660675  Single carriageway               Rural     Fine no high winds   \n",
       "660676  Single carriageway               Rural     Fine no high winds   \n",
       "660677  Single carriageway               Rural     Fine no high winds   \n",
       "660678    Dual carriageway               Rural  Snowing no high winds   \n",
       "\n",
       "                                Vehicle_Type  \n",
       "0                                        Car  \n",
       "1                                        Car  \n",
       "2                      Taxi/Private hire car  \n",
       "3       Bus or coach (17 or more pass seats)  \n",
       "4                              Other vehicle  \n",
       "...                                      ...  \n",
       "660674                                   Car  \n",
       "660675                                   Car  \n",
       "660676                                   Car  \n",
       "660677                 Motorcycle over 500cc  \n",
       "660678                                   Car  \n",
       "\n",
       "[660679 rows x 14 columns]"
      ]
     },
     "execution_count": 2,
     "metadata": {},
     "output_type": "execute_result"
    }
   ],
   "source": [
    "accident = pd.read_csv(\"C:\\\\Users\\\\Leenitte\\\\Downloads\\\\uk_road_accident.csv\")\n",
    "accident"
   ]
  },
  {
   "cell_type": "code",
   "execution_count": null,
   "id": "c0ffff6f-d768-4ee1-8b3c-30ff670ece7a",
   "metadata": {},
   "outputs": [],
   "source": []
  },
  {
   "cell_type": "markdown",
   "id": "42589cc1-352d-4f6d-a1a3-271251a5813a",
   "metadata": {},
   "source": [
    "<H3> CHECK DATAFRAME AND INFORMATION</H3>"
   ]
  },
  {
   "cell_type": "code",
   "execution_count": 3,
   "id": "7696bbfb-1dba-489f-b8e8-420b434a1712",
   "metadata": {},
   "outputs": [
    {
     "name": "stdout",
     "output_type": "stream",
     "text": [
      "<class 'pandas.core.frame.DataFrame'>\n",
      "RangeIndex: 660679 entries, 0 to 660678\n",
      "Data columns (total 14 columns):\n",
      " #   Column                   Non-Null Count   Dtype  \n",
      "---  ------                   --------------   -----  \n",
      " 0   Index                    660679 non-null  object \n",
      " 1   Accident_Severity        660679 non-null  object \n",
      " 2   Accident Date            660679 non-null  object \n",
      " 3   Latitude                 660654 non-null  float64\n",
      " 4   Light_Conditions         660679 non-null  object \n",
      " 5   District Area            660679 non-null  object \n",
      " 6   Longitude                660653 non-null  float64\n",
      " 7   Number_of_Casualties     660679 non-null  int64  \n",
      " 8   Number_of_Vehicles       660679 non-null  int64  \n",
      " 9   Road_Surface_Conditions  659953 non-null  object \n",
      " 10  Road_Type                656159 non-null  object \n",
      " 11  Urban_or_Rural_Area      660664 non-null  object \n",
      " 12  Weather_Conditions       646551 non-null  object \n",
      " 13  Vehicle_Type             660679 non-null  object \n",
      "dtypes: float64(2), int64(2), object(10)\n",
      "memory usage: 70.6+ MB\n"
     ]
    }
   ],
   "source": [
    "accident.info()"
   ]
  },
  {
   "cell_type": "code",
   "execution_count": null,
   "id": "3a855487-216b-4548-8f62-43378ac4c0ea",
   "metadata": {},
   "outputs": [],
   "source": []
  },
  {
   "cell_type": "markdown",
   "id": "65e75717-300b-4bb1-8a56-f95becbd2bd4",
   "metadata": {},
   "source": [
    "<H2>CHECK BASIC DESCRIPTIVE STATISTICS</H2>"
   ]
  },
  {
   "cell_type": "code",
   "execution_count": 4,
   "id": "b7ee24c7-5ae8-426f-ab45-046b67e59932",
   "metadata": {},
   "outputs": [
    {
     "data": {
      "text/html": [
       "<div>\n",
       "<style scoped>\n",
       "    .dataframe tbody tr th:only-of-type {\n",
       "        vertical-align: middle;\n",
       "    }\n",
       "\n",
       "    .dataframe tbody tr th {\n",
       "        vertical-align: top;\n",
       "    }\n",
       "\n",
       "    .dataframe thead th {\n",
       "        text-align: right;\n",
       "    }\n",
       "</style>\n",
       "<table border=\"1\" class=\"dataframe\">\n",
       "  <thead>\n",
       "    <tr style=\"text-align: right;\">\n",
       "      <th></th>\n",
       "      <th>Latitude</th>\n",
       "      <th>Longitude</th>\n",
       "      <th>Number_of_Casualties</th>\n",
       "      <th>Number_of_Vehicles</th>\n",
       "    </tr>\n",
       "  </thead>\n",
       "  <tbody>\n",
       "    <tr>\n",
       "      <th>count</th>\n",
       "      <td>660654.000000</td>\n",
       "      <td>660653.000000</td>\n",
       "      <td>660679.000000</td>\n",
       "      <td>660679.000000</td>\n",
       "    </tr>\n",
       "    <tr>\n",
       "      <th>mean</th>\n",
       "      <td>52.553866</td>\n",
       "      <td>-1.431210</td>\n",
       "      <td>1.357040</td>\n",
       "      <td>1.831255</td>\n",
       "    </tr>\n",
       "    <tr>\n",
       "      <th>std</th>\n",
       "      <td>1.406922</td>\n",
       "      <td>1.383330</td>\n",
       "      <td>0.824847</td>\n",
       "      <td>0.715269</td>\n",
       "    </tr>\n",
       "    <tr>\n",
       "      <th>min</th>\n",
       "      <td>49.914430</td>\n",
       "      <td>-7.516225</td>\n",
       "      <td>1.000000</td>\n",
       "      <td>1.000000</td>\n",
       "    </tr>\n",
       "    <tr>\n",
       "      <th>25%</th>\n",
       "      <td>51.490690</td>\n",
       "      <td>-2.332291</td>\n",
       "      <td>1.000000</td>\n",
       "      <td>1.000000</td>\n",
       "    </tr>\n",
       "    <tr>\n",
       "      <th>50%</th>\n",
       "      <td>52.315641</td>\n",
       "      <td>-1.411667</td>\n",
       "      <td>1.000000</td>\n",
       "      <td>2.000000</td>\n",
       "    </tr>\n",
       "    <tr>\n",
       "      <th>75%</th>\n",
       "      <td>53.453452</td>\n",
       "      <td>-0.232869</td>\n",
       "      <td>1.000000</td>\n",
       "      <td>2.000000</td>\n",
       "    </tr>\n",
       "    <tr>\n",
       "      <th>max</th>\n",
       "      <td>60.757544</td>\n",
       "      <td>1.762010</td>\n",
       "      <td>68.000000</td>\n",
       "      <td>32.000000</td>\n",
       "    </tr>\n",
       "  </tbody>\n",
       "</table>\n",
       "</div>"
      ],
      "text/plain": [
       "            Latitude      Longitude  Number_of_Casualties  Number_of_Vehicles\n",
       "count  660654.000000  660653.000000         660679.000000       660679.000000\n",
       "mean       52.553866      -1.431210              1.357040            1.831255\n",
       "std         1.406922       1.383330              0.824847            0.715269\n",
       "min        49.914430      -7.516225              1.000000            1.000000\n",
       "25%        51.490690      -2.332291              1.000000            1.000000\n",
       "50%        52.315641      -1.411667              1.000000            2.000000\n",
       "75%        53.453452      -0.232869              1.000000            2.000000\n",
       "max        60.757544       1.762010             68.000000           32.000000"
      ]
     },
     "execution_count": 4,
     "metadata": {},
     "output_type": "execute_result"
    }
   ],
   "source": [
    "accident.describe()"
   ]
  },
  {
   "cell_type": "code",
   "execution_count": null,
   "id": "4cc10d70-eb22-4995-abba-d4373331f869",
   "metadata": {},
   "outputs": [],
   "source": []
  },
  {
   "cell_type": "markdown",
   "id": "873002fb-7120-4574-a15a-5c8da6b01d4e",
   "metadata": {},
   "source": [
    "<h2>CALL EACH COLUMN INDIVIDUALLY</h2>"
   ]
  },
  {
   "cell_type": "code",
   "execution_count": 5,
   "id": "3d9c61ce-43a0-42bf-9127-6457259d9f16",
   "metadata": {},
   "outputs": [
    {
     "data": {
      "text/plain": [
       "0         200701BS64157\n",
       "1         200701BS65737\n",
       "2         200701BS66127\n",
       "3         200701BS66128\n",
       "4         200701BS66837\n",
       "              ...      \n",
       "660674    201091NM01760\n",
       "660675    201091NM01881\n",
       "660676    201091NM01935\n",
       "660677    201091NM01964\n",
       "660678    201091NM02142\n",
       "Name: Index, Length: 660679, dtype: object"
      ]
     },
     "execution_count": 5,
     "metadata": {},
     "output_type": "execute_result"
    }
   ],
   "source": [
    "accident['Index']"
   ]
  },
  {
   "cell_type": "code",
   "execution_count": 6,
   "id": "6112ff61-fdb3-43e4-8cbb-b3e5cc073cfe",
   "metadata": {},
   "outputs": [
    {
     "data": {
      "text/plain": [
       "0         Serious\n",
       "1         Serious\n",
       "2         Serious\n",
       "3         Serious\n",
       "4          Slight\n",
       "           ...   \n",
       "660674     Slight\n",
       "660675     Slight\n",
       "660676     Slight\n",
       "660677    Serious\n",
       "660678    Serious\n",
       "Name: Accident_Severity, Length: 660679, dtype: object"
      ]
     },
     "execution_count": 6,
     "metadata": {},
     "output_type": "execute_result"
    }
   ],
   "source": [
    "accident['Accident_Severity']"
   ]
  },
  {
   "cell_type": "code",
   "execution_count": 7,
   "id": "8182fb32-1b58-4f13-941f-0772f5d38440",
   "metadata": {},
   "outputs": [
    {
     "data": {
      "text/plain": [
       "0           5/6/2019\n",
       "1           2/7/2019\n",
       "2         26-08-2019\n",
       "3         16-08-2019\n",
       "4           3/9/2019\n",
       "             ...    \n",
       "660674    18-02-2022\n",
       "660675    21-02-2022\n",
       "660676    23-02-2022\n",
       "660677    23-02-2022\n",
       "660678    28-02-2022\n",
       "Name: Accident Date, Length: 660679, dtype: object"
      ]
     },
     "execution_count": 7,
     "metadata": {},
     "output_type": "execute_result"
    }
   ],
   "source": [
    "accident['Accident Date']"
   ]
  },
  {
   "cell_type": "code",
   "execution_count": 8,
   "id": "7bd51987-0ff4-4e5e-98e7-322b5efdfd25",
   "metadata": {},
   "outputs": [
    {
     "data": {
      "text/plain": [
       "0         51.506187\n",
       "1         51.495029\n",
       "2         51.517715\n",
       "3         51.495478\n",
       "4         51.488576\n",
       "            ...    \n",
       "660674    57.374005\n",
       "660675    57.232273\n",
       "660676    57.585044\n",
       "660677    57.214898\n",
       "660678    57.575210\n",
       "Name: Latitude, Length: 660679, dtype: float64"
      ]
     },
     "execution_count": 8,
     "metadata": {},
     "output_type": "execute_result"
    }
   ],
   "source": [
    "accident['Latitude']"
   ]
  },
  {
   "cell_type": "code",
   "execution_count": 9,
   "id": "4f0c6224-973d-4db0-a885-7d824999f005",
   "metadata": {},
   "outputs": [
    {
     "data": {
      "text/plain": [
       "0               Darkness - lights lit\n",
       "1                            Daylight\n",
       "2         Darkness - lighting unknown\n",
       "3                            Daylight\n",
       "4               Darkness - lights lit\n",
       "                     ...             \n",
       "660674                       Daylight\n",
       "660675         Darkness - no lighting\n",
       "660676                       Daylight\n",
       "660677         Darkness - no lighting\n",
       "660678                       Daylight\n",
       "Name: Light_Conditions, Length: 660679, dtype: object"
      ]
     },
     "execution_count": 9,
     "metadata": {},
     "output_type": "execute_result"
    }
   ],
   "source": [
    "accident['Light_Conditions']"
   ]
  },
  {
   "cell_type": "code",
   "execution_count": 10,
   "id": "2adeabbd-5417-43de-a921-a14680678d8f",
   "metadata": {},
   "outputs": [
    {
     "data": {
      "text/plain": [
       "0         Kensington and Chelsea\n",
       "1         Kensington and Chelsea\n",
       "2         Kensington and Chelsea\n",
       "3         Kensington and Chelsea\n",
       "4         Kensington and Chelsea\n",
       "                   ...          \n",
       "660674                  Highland\n",
       "660675                  Highland\n",
       "660676                  Highland\n",
       "660677                  Highland\n",
       "660678                  Highland\n",
       "Name: District Area, Length: 660679, dtype: object"
      ]
     },
     "execution_count": 10,
     "metadata": {},
     "output_type": "execute_result"
    }
   ],
   "source": [
    "accident['District Area']"
   ]
  },
  {
   "cell_type": "code",
   "execution_count": 11,
   "id": "f88240be-f032-4662-a156-7bb94f8ff0af",
   "metadata": {},
   "outputs": [
    {
     "data": {
      "text/plain": [
       "0        -0.209082\n",
       "1        -0.173647\n",
       "2        -0.210215\n",
       "3        -0.202731\n",
       "4        -0.192487\n",
       "            ...   \n",
       "660674   -3.467828\n",
       "660675   -3.809281\n",
       "660676   -3.862727\n",
       "660677   -3.823997\n",
       "660678   -3.895673\n",
       "Name: Longitude, Length: 660679, dtype: float64"
      ]
     },
     "execution_count": 11,
     "metadata": {},
     "output_type": "execute_result"
    }
   ],
   "source": [
    "accident['Longitude']"
   ]
  },
  {
   "cell_type": "code",
   "execution_count": 12,
   "id": "00be282d-c5d7-4ba8-b5e6-b82c27723d38",
   "metadata": {},
   "outputs": [
    {
     "data": {
      "text/plain": [
       "0         1\n",
       "1         1\n",
       "2         1\n",
       "3         1\n",
       "4         1\n",
       "         ..\n",
       "660674    2\n",
       "660675    1\n",
       "660676    1\n",
       "660677    1\n",
       "660678    1\n",
       "Name: Number_of_Casualties, Length: 660679, dtype: int64"
      ]
     },
     "execution_count": 12,
     "metadata": {},
     "output_type": "execute_result"
    }
   ],
   "source": [
    "accident['Number_of_Casualties']"
   ]
  },
  {
   "cell_type": "code",
   "execution_count": 13,
   "id": "44d6359c-dd0d-49a2-943c-116bf3fe4d20",
   "metadata": {},
   "outputs": [
    {
     "data": {
      "text/plain": [
       "0         2\n",
       "1         2\n",
       "2         3\n",
       "3         4\n",
       "4         2\n",
       "         ..\n",
       "660674    1\n",
       "660675    1\n",
       "660676    3\n",
       "660677    2\n",
       "660678    1\n",
       "Name: Number_of_Vehicles, Length: 660679, dtype: int64"
      ]
     },
     "execution_count": 13,
     "metadata": {},
     "output_type": "execute_result"
    }
   ],
   "source": [
    "accident['Number_of_Vehicles']"
   ]
  },
  {
   "cell_type": "code",
   "execution_count": 14,
   "id": "f7c92a8f-05e6-43fc-b767-e1af4ea3e3da",
   "metadata": {},
   "outputs": [
    {
     "data": {
      "text/plain": [
       "0                  Dry\n",
       "1          Wet or damp\n",
       "2                  Dry\n",
       "3                  Dry\n",
       "4                  Dry\n",
       "              ...     \n",
       "660674             Dry\n",
       "660675    Frost or ice\n",
       "660676    Frost or ice\n",
       "660677     Wet or damp\n",
       "660678     Wet or damp\n",
       "Name: Road_Surface_Conditions, Length: 660679, dtype: object"
      ]
     },
     "execution_count": 14,
     "metadata": {},
     "output_type": "execute_result"
    }
   ],
   "source": [
    "accident['Road_Surface_Conditions']"
   ]
  },
  {
   "cell_type": "code",
   "execution_count": 15,
   "id": "780d5e1e-595f-4468-9920-f543241a24c4",
   "metadata": {},
   "outputs": [
    {
     "data": {
      "text/plain": [
       "0         Single carriageway\n",
       "1         Single carriageway\n",
       "2                        NaN\n",
       "3         Single carriageway\n",
       "4                        NaN\n",
       "                 ...        \n",
       "660674    Single carriageway\n",
       "660675    Single carriageway\n",
       "660676    Single carriageway\n",
       "660677    Single carriageway\n",
       "660678      Dual carriageway\n",
       "Name: Road_Type, Length: 660679, dtype: object"
      ]
     },
     "execution_count": 15,
     "metadata": {},
     "output_type": "execute_result"
    }
   ],
   "source": [
    "accident['Road_Type']"
   ]
  },
  {
   "cell_type": "code",
   "execution_count": 16,
   "id": "03bfafb8-31dc-4828-9d6a-47a448586636",
   "metadata": {},
   "outputs": [
    {
     "data": {
      "text/plain": [
       "0         Urban\n",
       "1         Urban\n",
       "2         Urban\n",
       "3         Urban\n",
       "4         Urban\n",
       "          ...  \n",
       "660674    Rural\n",
       "660675    Rural\n",
       "660676    Rural\n",
       "660677    Rural\n",
       "660678    Rural\n",
       "Name: Urban_or_Rural_Area, Length: 660679, dtype: object"
      ]
     },
     "execution_count": 16,
     "metadata": {},
     "output_type": "execute_result"
    }
   ],
   "source": [
    "accident['Urban_or_Rural_Area']"
   ]
  },
  {
   "cell_type": "code",
   "execution_count": 17,
   "id": "19ca89da-c0b4-4720-b060-38927e82a38c",
   "metadata": {},
   "outputs": [
    {
     "data": {
      "text/plain": [
       "0            Fine no high winds\n",
       "1         Raining no high winds\n",
       "2                           NaN\n",
       "3            Fine no high winds\n",
       "4                           NaN\n",
       "                  ...          \n",
       "660674       Fine no high winds\n",
       "660675       Fine no high winds\n",
       "660676       Fine no high winds\n",
       "660677       Fine no high winds\n",
       "660678    Snowing no high winds\n",
       "Name: Weather_Conditions, Length: 660679, dtype: object"
      ]
     },
     "execution_count": 17,
     "metadata": {},
     "output_type": "execute_result"
    }
   ],
   "source": [
    "accident['Weather_Conditions']"
   ]
  },
  {
   "cell_type": "code",
   "execution_count": 18,
   "id": "7dea8c1f-858d-4e06-83b9-d97086bfd3a6",
   "metadata": {},
   "outputs": [
    {
     "data": {
      "text/plain": [
       "0                                          Car\n",
       "1                                          Car\n",
       "2                        Taxi/Private hire car\n",
       "3         Bus or coach (17 or more pass seats)\n",
       "4                                Other vehicle\n",
       "                          ...                 \n",
       "660674                                     Car\n",
       "660675                                     Car\n",
       "660676                                     Car\n",
       "660677                   Motorcycle over 500cc\n",
       "660678                                     Car\n",
       "Name: Vehicle_Type, Length: 660679, dtype: object"
      ]
     },
     "execution_count": 18,
     "metadata": {},
     "output_type": "execute_result"
    }
   ],
   "source": [
    "accident['Vehicle_Type']"
   ]
  },
  {
   "cell_type": "code",
   "execution_count": null,
   "id": "71e4d6d2-0aa7-45df-a356-85d61eab8d02",
   "metadata": {},
   "outputs": [],
   "source": []
  },
  {
   "cell_type": "markdown",
   "id": "39cf5fca-dddc-443e-a030-55d791162023",
   "metadata": {},
   "source": [
    "<h2>CHECK FOR NULL VALUES</h2>"
   ]
  },
  {
   "cell_type": "code",
   "execution_count": 19,
   "id": "7bba2959-94c3-4fc3-a308-ab12378c52ac",
   "metadata": {},
   "outputs": [
    {
     "data": {
      "text/plain": [
       "Index                          0\n",
       "Accident_Severity              0\n",
       "Accident Date                  0\n",
       "Latitude                      25\n",
       "Light_Conditions               0\n",
       "District Area                  0\n",
       "Longitude                     26\n",
       "Number_of_Casualties           0\n",
       "Number_of_Vehicles             0\n",
       "Road_Surface_Conditions      726\n",
       "Road_Type                   4520\n",
       "Urban_or_Rural_Area           15\n",
       "Weather_Conditions         14128\n",
       "Vehicle_Type                   0\n",
       "dtype: int64"
      ]
     },
     "execution_count": 19,
     "metadata": {},
     "output_type": "execute_result"
    }
   ],
   "source": [
    "accident.isnull().sum()"
   ]
  },
  {
   "cell_type": "code",
   "execution_count": null,
   "id": "df1174e3-0912-4730-b93b-9f90db5990e0",
   "metadata": {},
   "outputs": [],
   "source": []
  },
  {
   "cell_type": "markdown",
   "id": "f28e23e2-3e4f-447f-9594-83fa5e8867f8",
   "metadata": {},
   "source": [
    "<h2>FILL NULL VALUES WITH STATISTCAL VALUES</h2>"
   ]
  },
  {
   "cell_type": "code",
   "execution_count": 20,
   "id": "f2c16b23-567c-423e-9e2a-3f697f4d0cfa",
   "metadata": {},
   "outputs": [],
   "source": [
    "accident['Latitude'] = accident['Latitude'] .fillna(accident['Latitude'].mean())\n",
    "accident['Longitude'] = accident['Longitude'] .fillna(accident['Longitude'].mean())\n",
    "accident['Road_Surface_Conditions'] = accident['Road_Surface_Conditions'] .fillna(accident['Road_Surface_Conditions'].mode()[0])\n",
    "accident['Road_Type'] = accident['Road_Type'] .fillna(accident['Road_Type'].mode()[0])\n",
    "accident['Urban_or_Rural_Area'] = accident['Urban_or_Rural_Area'] .fillna(accident['Urban_or_Rural_Area'].mode()[0])\n",
    "accident['Weather_Conditions'] = accident['Weather_Conditions'] .fillna(accident['Weather_Conditions'].mode()[0])"
   ]
  },
  {
   "cell_type": "code",
   "execution_count": 21,
   "id": "8ed51086-f3c3-48c5-926a-1b8bd9ed48b6",
   "metadata": {},
   "outputs": [
    {
     "data": {
      "text/plain": [
       "Index                      0\n",
       "Accident_Severity          0\n",
       "Accident Date              0\n",
       "Latitude                   0\n",
       "Light_Conditions           0\n",
       "District Area              0\n",
       "Longitude                  0\n",
       "Number_of_Casualties       0\n",
       "Number_of_Vehicles         0\n",
       "Road_Surface_Conditions    0\n",
       "Road_Type                  0\n",
       "Urban_or_Rural_Area        0\n",
       "Weather_Conditions         0\n",
       "Vehicle_Type               0\n",
       "dtype: int64"
      ]
     },
     "execution_count": 21,
     "metadata": {},
     "output_type": "execute_result"
    }
   ],
   "source": [
    "accident.isnull().sum()"
   ]
  },
  {
   "cell_type": "code",
   "execution_count": null,
   "id": "b3adb3b5-c012-45de-9a2d-fa2ccf5b00ec",
   "metadata": {},
   "outputs": [],
   "source": []
  },
  {
   "cell_type": "markdown",
   "id": "ac9bbc3f-57db-4c1f-822a-622e49798ad6",
   "metadata": {},
   "source": [
    "<h2>CHECK COLUMN DATA TYPES</h2>"
   ]
  },
  {
   "cell_type": "code",
   "execution_count": 22,
   "id": "6c0c481c-cbd0-4d28-8fae-3eefd0dcdb7f",
   "metadata": {},
   "outputs": [
    {
     "name": "stdout",
     "output_type": "stream",
     "text": [
      "<class 'pandas.core.frame.DataFrame'>\n",
      "RangeIndex: 660679 entries, 0 to 660678\n",
      "Data columns (total 14 columns):\n",
      " #   Column                   Non-Null Count   Dtype  \n",
      "---  ------                   --------------   -----  \n",
      " 0   Index                    660679 non-null  object \n",
      " 1   Accident_Severity        660679 non-null  object \n",
      " 2   Accident Date            660679 non-null  object \n",
      " 3   Latitude                 660679 non-null  float64\n",
      " 4   Light_Conditions         660679 non-null  object \n",
      " 5   District Area            660679 non-null  object \n",
      " 6   Longitude                660679 non-null  float64\n",
      " 7   Number_of_Casualties     660679 non-null  int64  \n",
      " 8   Number_of_Vehicles       660679 non-null  int64  \n",
      " 9   Road_Surface_Conditions  660679 non-null  object \n",
      " 10  Road_Type                660679 non-null  object \n",
      " 11  Urban_or_Rural_Area      660679 non-null  object \n",
      " 12  Weather_Conditions       660679 non-null  object \n",
      " 13  Vehicle_Type             660679 non-null  object \n",
      "dtypes: float64(2), int64(2), object(10)\n",
      "memory usage: 70.6+ MB\n"
     ]
    }
   ],
   "source": [
    "accident.info()"
   ]
  },
  {
   "cell_type": "code",
   "execution_count": 23,
   "id": "48bd924c-fd93-4ba3-9b46-49454693d264",
   "metadata": {},
   "outputs": [],
   "source": [
    "accident['Index'] = accident ['Index'].astype('category')"
   ]
  },
  {
   "cell_type": "code",
   "execution_count": 24,
   "id": "8dbfeb82-d527-4b08-98b2-957a4da99f86",
   "metadata": {},
   "outputs": [],
   "source": [
    "accident['Accident_Severity'] = accident ['Accident_Severity'].astype('category')"
   ]
  },
  {
   "cell_type": "code",
   "execution_count": 25,
   "id": "78224fb6-74b5-423a-bad1-97fb43040ac8",
   "metadata": {},
   "outputs": [],
   "source": [
    "accident['Accident Date'] = accident ['Accident Date'].astype('category')"
   ]
  },
  {
   "cell_type": "code",
   "execution_count": 26,
   "id": "20bcd79f-f422-456d-99f4-c8af6e865144",
   "metadata": {},
   "outputs": [],
   "source": [
    "accident['Light_Conditions'] = accident ['Light_Conditions'].astype('category')"
   ]
  },
  {
   "cell_type": "code",
   "execution_count": 27,
   "id": "42db2bb1-c3b9-4da9-98c4-e433d1cdb9ae",
   "metadata": {},
   "outputs": [],
   "source": [
    "accident['District Area'] = accident ['District Area'].astype('category')"
   ]
  },
  {
   "cell_type": "code",
   "execution_count": 28,
   "id": "b1b37c39-c709-4634-9f10-98fafc0da7d7",
   "metadata": {},
   "outputs": [],
   "source": [
    "accident['Road_Surface_Conditions'] = accident ['Road_Surface_Conditions'].astype('category')"
   ]
  },
  {
   "cell_type": "code",
   "execution_count": 29,
   "id": "66b8702d-974b-4297-9d15-b4fefd88489f",
   "metadata": {},
   "outputs": [],
   "source": [
    "accident['Road_Type'] = accident ['Road_Type'].astype('category')"
   ]
  },
  {
   "cell_type": "code",
   "execution_count": 30,
   "id": "5472ad8b-97d9-4455-a2a4-48547b661641",
   "metadata": {},
   "outputs": [],
   "source": [
    "accident['Urban_or_Rural_Area'] = accident ['Urban_or_Rural_Area'].astype('category')"
   ]
  },
  {
   "cell_type": "code",
   "execution_count": 31,
   "id": "7f20b8b2-905b-461e-8542-c076d5dcb998",
   "metadata": {},
   "outputs": [],
   "source": [
    "accident['Weather_Conditions'] = accident ['Weather_Conditions'].astype('category')"
   ]
  },
  {
   "cell_type": "code",
   "execution_count": 32,
   "id": "cde41585-bce8-4f42-81df-e732edd1871e",
   "metadata": {},
   "outputs": [],
   "source": [
    "accident['Vehicle_Type'] = accident ['Vehicle_Type'].astype('category')"
   ]
  },
  {
   "cell_type": "code",
   "execution_count": 33,
   "id": "fd198c2d-ddc4-4de6-83d4-f81454685709",
   "metadata": {},
   "outputs": [
    {
     "name": "stdout",
     "output_type": "stream",
     "text": [
      "<class 'pandas.core.frame.DataFrame'>\n",
      "RangeIndex: 660679 entries, 0 to 660678\n",
      "Data columns (total 14 columns):\n",
      " #   Column                   Non-Null Count   Dtype   \n",
      "---  ------                   --------------   -----   \n",
      " 0   Index                    660679 non-null  category\n",
      " 1   Accident_Severity        660679 non-null  category\n",
      " 2   Accident Date            660679 non-null  category\n",
      " 3   Latitude                 660679 non-null  float64 \n",
      " 4   Light_Conditions         660679 non-null  category\n",
      " 5   District Area            660679 non-null  category\n",
      " 6   Longitude                660679 non-null  float64 \n",
      " 7   Number_of_Casualties     660679 non-null  int64   \n",
      " 8   Number_of_Vehicles       660679 non-null  int64   \n",
      " 9   Road_Surface_Conditions  660679 non-null  category\n",
      " 10  Road_Type                660679 non-null  category\n",
      " 11  Urban_or_Rural_Area      660679 non-null  category\n",
      " 12  Weather_Conditions       660679 non-null  category\n",
      " 13  Vehicle_Type             660679 non-null  category\n",
      "dtypes: category(10), float64(2), int64(2)\n",
      "memory usage: 49.0 MB\n"
     ]
    }
   ],
   "source": [
    "accident.info()"
   ]
  },
  {
   "cell_type": "markdown",
   "id": "ebde67b0-293c-43a6-9e20-d385178f5d5d",
   "metadata": {},
   "source": [
    "<h1>EXPLORATORY DATA ANALYSIS</h1><HR>"
   ]
  },
  {
   "cell_type": "markdown",
   "id": "54d28f63-3a75-41ca-bb0b-13781f6c9e0d",
   "metadata": {},
   "source": [
    "<h2>QUESTION 1: Which accidents were fatal and happened at night?</h2>"
   ]
  },
  {
   "cell_type": "code",
   "execution_count": 34,
   "id": "bcfb45e9-32d8-41e0-8934-1c5895e26d09",
   "metadata": {},
   "outputs": [
    {
     "data": {
      "text/html": [
       "<div>\n",
       "<style scoped>\n",
       "    .dataframe tbody tr th:only-of-type {\n",
       "        vertical-align: middle;\n",
       "    }\n",
       "\n",
       "    .dataframe tbody tr th {\n",
       "        vertical-align: top;\n",
       "    }\n",
       "\n",
       "    .dataframe thead th {\n",
       "        text-align: right;\n",
       "    }\n",
       "</style>\n",
       "<table border=\"1\" class=\"dataframe\">\n",
       "  <thead>\n",
       "    <tr style=\"text-align: right;\">\n",
       "      <th></th>\n",
       "      <th>Index</th>\n",
       "      <th>Accident_Severity</th>\n",
       "      <th>Accident Date</th>\n",
       "      <th>Latitude</th>\n",
       "      <th>Light_Conditions</th>\n",
       "      <th>District Area</th>\n",
       "      <th>Longitude</th>\n",
       "      <th>Number_of_Casualties</th>\n",
       "      <th>Number_of_Vehicles</th>\n",
       "      <th>Road_Surface_Conditions</th>\n",
       "      <th>Road_Type</th>\n",
       "      <th>Urban_or_Rural_Area</th>\n",
       "      <th>Weather_Conditions</th>\n",
       "      <th>Vehicle_Type</th>\n",
       "    </tr>\n",
       "  </thead>\n",
       "  <tbody>\n",
       "    <tr>\n",
       "      <th>7</th>\n",
       "      <td>200701BS67370</td>\n",
       "      <td>Fatal</td>\n",
       "      <td>3/10/2019</td>\n",
       "      <td>51.482260</td>\n",
       "      <td>Darkness - lights lit</td>\n",
       "      <td>Kensington and Chelsea</td>\n",
       "      <td>-0.179486</td>\n",
       "      <td>3</td>\n",
       "      <td>2</td>\n",
       "      <td>Dry</td>\n",
       "      <td>Single carriageway</td>\n",
       "      <td>Urban</td>\n",
       "      <td>Fine no high winds</td>\n",
       "      <td>Car</td>\n",
       "    </tr>\n",
       "    <tr>\n",
       "      <th>997</th>\n",
       "      <td>200701CP00318</td>\n",
       "      <td>Fatal</td>\n",
       "      <td>19-11-2019</td>\n",
       "      <td>51.516045</td>\n",
       "      <td>Darkness - lights lit</td>\n",
       "      <td>City of London</td>\n",
       "      <td>-0.081859</td>\n",
       "      <td>7</td>\n",
       "      <td>2</td>\n",
       "      <td>Wet or damp</td>\n",
       "      <td>Dual carriageway</td>\n",
       "      <td>Urban</td>\n",
       "      <td>Raining no high winds</td>\n",
       "      <td>Motorcycle over 500cc</td>\n",
       "    </tr>\n",
       "    <tr>\n",
       "      <th>2654</th>\n",
       "      <td>200701EK65734</td>\n",
       "      <td>Fatal</td>\n",
       "      <td>30-07-2019</td>\n",
       "      <td>51.523684</td>\n",
       "      <td>Darkness - lights lit</td>\n",
       "      <td>Camden</td>\n",
       "      <td>-0.137327</td>\n",
       "      <td>2</td>\n",
       "      <td>2</td>\n",
       "      <td>Dry</td>\n",
       "      <td>Single carriageway</td>\n",
       "      <td>Urban</td>\n",
       "      <td>Fine no high winds</td>\n",
       "      <td>Car</td>\n",
       "    </tr>\n",
       "    <tr>\n",
       "      <th>2707</th>\n",
       "      <td>200701EK69009</td>\n",
       "      <td>Fatal</td>\n",
       "      <td>24-11-2019</td>\n",
       "      <td>51.516285</td>\n",
       "      <td>Darkness - lights lit</td>\n",
       "      <td>Camden</td>\n",
       "      <td>-0.130134</td>\n",
       "      <td>1</td>\n",
       "      <td>1</td>\n",
       "      <td>Dry</td>\n",
       "      <td>Single carriageway</td>\n",
       "      <td>Urban</td>\n",
       "      <td>Fine no high winds</td>\n",
       "      <td>Car</td>\n",
       "    </tr>\n",
       "    <tr>\n",
       "      <th>4226</th>\n",
       "      <td>200701FH68977</td>\n",
       "      <td>Fatal</td>\n",
       "      <td>12/12/2019</td>\n",
       "      <td>51.490844</td>\n",
       "      <td>Darkness - lights lit</td>\n",
       "      <td>Hammersmith and Fulham</td>\n",
       "      <td>-0.229130</td>\n",
       "      <td>1</td>\n",
       "      <td>1</td>\n",
       "      <td>Dry</td>\n",
       "      <td>Single carriageway</td>\n",
       "      <td>Urban</td>\n",
       "      <td>Fine no high winds</td>\n",
       "      <td>Van / Goods 3.5 tonnes mgw or under</td>\n",
       "    </tr>\n",
       "    <tr>\n",
       "      <th>...</th>\n",
       "      <td>...</td>\n",
       "      <td>...</td>\n",
       "      <td>...</td>\n",
       "      <td>...</td>\n",
       "      <td>...</td>\n",
       "      <td>...</td>\n",
       "      <td>...</td>\n",
       "      <td>...</td>\n",
       "      <td>...</td>\n",
       "      <td>...</td>\n",
       "      <td>...</td>\n",
       "      <td>...</td>\n",
       "      <td>...</td>\n",
       "      <td>...</td>\n",
       "    </tr>\n",
       "    <tr>\n",
       "      <th>658939</th>\n",
       "      <td>201063AC00710</td>\n",
       "      <td>Fatal</td>\n",
       "      <td>10/1/2022</td>\n",
       "      <td>51.745470</td>\n",
       "      <td>Darkness - lights lit</td>\n",
       "      <td>Carmarthenshire</td>\n",
       "      <td>-4.065257</td>\n",
       "      <td>1</td>\n",
       "      <td>1</td>\n",
       "      <td>Frost or ice</td>\n",
       "      <td>Roundabout</td>\n",
       "      <td>Rural</td>\n",
       "      <td>Fine no high winds</td>\n",
       "      <td>Car</td>\n",
       "    </tr>\n",
       "    <tr>\n",
       "      <th>659412</th>\n",
       "      <td>201063BC00210</td>\n",
       "      <td>Fatal</td>\n",
       "      <td>22-01-2022</td>\n",
       "      <td>52.194010</td>\n",
       "      <td>Darkness - lights lit</td>\n",
       "      <td>Ceredigion</td>\n",
       "      <td>-4.307669</td>\n",
       "      <td>1</td>\n",
       "      <td>1</td>\n",
       "      <td>Wet or damp</td>\n",
       "      <td>Dual carriageway</td>\n",
       "      <td>Rural</td>\n",
       "      <td>Fog or mist</td>\n",
       "      <td>Car</td>\n",
       "    </tr>\n",
       "    <tr>\n",
       "      <th>659806</th>\n",
       "      <td>201063CP18910</td>\n",
       "      <td>Fatal</td>\n",
       "      <td>1/8/2022</td>\n",
       "      <td>51.831053</td>\n",
       "      <td>Darkness - lights lit</td>\n",
       "      <td>Pembrokeshire</td>\n",
       "      <td>-5.057082</td>\n",
       "      <td>2</td>\n",
       "      <td>1</td>\n",
       "      <td>Dry</td>\n",
       "      <td>Single carriageway</td>\n",
       "      <td>Rural</td>\n",
       "      <td>Fine no high winds</td>\n",
       "      <td>Car</td>\n",
       "    </tr>\n",
       "    <tr>\n",
       "      <th>660311</th>\n",
       "      <td>201063DP35410</td>\n",
       "      <td>Fatal</td>\n",
       "      <td>28-10-2022</td>\n",
       "      <td>52.515278</td>\n",
       "      <td>Darkness - lights lit</td>\n",
       "      <td>Powys</td>\n",
       "      <td>-3.317265</td>\n",
       "      <td>1</td>\n",
       "      <td>1</td>\n",
       "      <td>Dry</td>\n",
       "      <td>Single carriageway</td>\n",
       "      <td>Urban</td>\n",
       "      <td>Fine no high winds</td>\n",
       "      <td>Other vehicle</td>\n",
       "    </tr>\n",
       "    <tr>\n",
       "      <th>660581</th>\n",
       "      <td>201091NJ14695</td>\n",
       "      <td>Fatal</td>\n",
       "      <td>21-10-2022</td>\n",
       "      <td>58.445475</td>\n",
       "      <td>Darkness - lights lit</td>\n",
       "      <td>Highland</td>\n",
       "      <td>-3.065535</td>\n",
       "      <td>1</td>\n",
       "      <td>1</td>\n",
       "      <td>Wet or damp</td>\n",
       "      <td>Single carriageway</td>\n",
       "      <td>Rural</td>\n",
       "      <td>Fine no high winds</td>\n",
       "      <td>Car</td>\n",
       "    </tr>\n",
       "  </tbody>\n",
       "</table>\n",
       "<p>1860 rows × 14 columns</p>\n",
       "</div>"
      ],
      "text/plain": [
       "                Index Accident_Severity Accident Date   Latitude  \\\n",
       "7       200701BS67370             Fatal     3/10/2019  51.482260   \n",
       "997     200701CP00318             Fatal    19-11-2019  51.516045   \n",
       "2654    200701EK65734             Fatal    30-07-2019  51.523684   \n",
       "2707    200701EK69009             Fatal    24-11-2019  51.516285   \n",
       "4226    200701FH68977             Fatal    12/12/2019  51.490844   \n",
       "...               ...               ...           ...        ...   \n",
       "658939  201063AC00710             Fatal     10/1/2022  51.745470   \n",
       "659412  201063BC00210             Fatal    22-01-2022  52.194010   \n",
       "659806  201063CP18910             Fatal      1/8/2022  51.831053   \n",
       "660311  201063DP35410             Fatal    28-10-2022  52.515278   \n",
       "660581  201091NJ14695             Fatal    21-10-2022  58.445475   \n",
       "\n",
       "             Light_Conditions           District Area  Longitude  \\\n",
       "7       Darkness - lights lit  Kensington and Chelsea  -0.179486   \n",
       "997     Darkness - lights lit          City of London  -0.081859   \n",
       "2654    Darkness - lights lit                  Camden  -0.137327   \n",
       "2707    Darkness - lights lit                  Camden  -0.130134   \n",
       "4226    Darkness - lights lit  Hammersmith and Fulham  -0.229130   \n",
       "...                       ...                     ...        ...   \n",
       "658939  Darkness - lights lit         Carmarthenshire  -4.065257   \n",
       "659412  Darkness - lights lit              Ceredigion  -4.307669   \n",
       "659806  Darkness - lights lit           Pembrokeshire  -5.057082   \n",
       "660311  Darkness - lights lit                   Powys  -3.317265   \n",
       "660581  Darkness - lights lit                Highland  -3.065535   \n",
       "\n",
       "        Number_of_Casualties  Number_of_Vehicles Road_Surface_Conditions  \\\n",
       "7                          3                   2                     Dry   \n",
       "997                        7                   2             Wet or damp   \n",
       "2654                       2                   2                     Dry   \n",
       "2707                       1                   1                     Dry   \n",
       "4226                       1                   1                     Dry   \n",
       "...                      ...                 ...                     ...   \n",
       "658939                     1                   1            Frost or ice   \n",
       "659412                     1                   1             Wet or damp   \n",
       "659806                     2                   1                     Dry   \n",
       "660311                     1                   1                     Dry   \n",
       "660581                     1                   1             Wet or damp   \n",
       "\n",
       "                 Road_Type Urban_or_Rural_Area     Weather_Conditions  \\\n",
       "7       Single carriageway               Urban     Fine no high winds   \n",
       "997       Dual carriageway               Urban  Raining no high winds   \n",
       "2654    Single carriageway               Urban     Fine no high winds   \n",
       "2707    Single carriageway               Urban     Fine no high winds   \n",
       "4226    Single carriageway               Urban     Fine no high winds   \n",
       "...                    ...                 ...                    ...   \n",
       "658939          Roundabout               Rural     Fine no high winds   \n",
       "659412    Dual carriageway               Rural            Fog or mist   \n",
       "659806  Single carriageway               Rural     Fine no high winds   \n",
       "660311  Single carriageway               Urban     Fine no high winds   \n",
       "660581  Single carriageway               Rural     Fine no high winds   \n",
       "\n",
       "                               Vehicle_Type  \n",
       "7                                       Car  \n",
       "997                   Motorcycle over 500cc  \n",
       "2654                                    Car  \n",
       "2707                                    Car  \n",
       "4226    Van / Goods 3.5 tonnes mgw or under  \n",
       "...                                     ...  \n",
       "658939                                  Car  \n",
       "659412                                  Car  \n",
       "659806                                  Car  \n",
       "660311                        Other vehicle  \n",
       "660581                                  Car  \n",
       "\n",
       "[1860 rows x 14 columns]"
      ]
     },
     "execution_count": 34,
     "metadata": {},
     "output_type": "execute_result"
    }
   ],
   "source": [
    "fatal_night = accident[(accident[\"Accident_Severity\"] == \"Fatal\") & \n",
    "                       (accident[\"Light_Conditions\"] == \"Darkness - lights lit\")]\n",
    "fatal_night"
   ]
  },
  {
   "cell_type": "markdown",
   "id": "cb867b86-f3fa-4244-b4a9-dd7d9285aaed",
   "metadata": {},
   "source": [
    "<h3>Insight: Fatal accidents at night highlight the risk of poor visibility.</h3>"
   ]
  },
  {
   "cell_type": "markdown",
   "id": "33389989-13d8-4fd6-960d-3cdc9173b874",
   "metadata": {},
   "source": [
    "<h2>QUESTION 2: Which accidents happened in urban areas with only 1 vehicle?</h2>"
   ]
  },
  {
   "cell_type": "code",
   "execution_count": 35,
   "id": "eab87dc1-85b2-4fd8-9dd8-3c3199492365",
   "metadata": {},
   "outputs": [
    {
     "data": {
      "text/html": [
       "<div>\n",
       "<style scoped>\n",
       "    .dataframe tbody tr th:only-of-type {\n",
       "        vertical-align: middle;\n",
       "    }\n",
       "\n",
       "    .dataframe tbody tr th {\n",
       "        vertical-align: top;\n",
       "    }\n",
       "\n",
       "    .dataframe thead th {\n",
       "        text-align: right;\n",
       "    }\n",
       "</style>\n",
       "<table border=\"1\" class=\"dataframe\">\n",
       "  <thead>\n",
       "    <tr style=\"text-align: right;\">\n",
       "      <th></th>\n",
       "      <th>Index</th>\n",
       "      <th>Accident_Severity</th>\n",
       "      <th>Accident Date</th>\n",
       "      <th>Latitude</th>\n",
       "      <th>Light_Conditions</th>\n",
       "      <th>District Area</th>\n",
       "      <th>Longitude</th>\n",
       "      <th>Number_of_Casualties</th>\n",
       "      <th>Number_of_Vehicles</th>\n",
       "      <th>Road_Surface_Conditions</th>\n",
       "      <th>Road_Type</th>\n",
       "      <th>Urban_or_Rural_Area</th>\n",
       "      <th>Weather_Conditions</th>\n",
       "      <th>Vehicle_Type</th>\n",
       "    </tr>\n",
       "  </thead>\n",
       "  <tbody>\n",
       "    <tr>\n",
       "      <th>12</th>\n",
       "      <td>200701BS67773</td>\n",
       "      <td>Serious</td>\n",
       "      <td>12/11/2019</td>\n",
       "      <td>51.500823</td>\n",
       "      <td>Daylight</td>\n",
       "      <td>Kensington and Chelsea</td>\n",
       "      <td>-0.193587</td>\n",
       "      <td>1</td>\n",
       "      <td>1</td>\n",
       "      <td>Dry</td>\n",
       "      <td>Single carriageway</td>\n",
       "      <td>Urban</td>\n",
       "      <td>Fine no high winds</td>\n",
       "      <td>Motorcycle 125cc and under</td>\n",
       "    </tr>\n",
       "    <tr>\n",
       "      <th>14</th>\n",
       "      <td>200701BS67859</td>\n",
       "      <td>Slight</td>\n",
       "      <td>1/11/2019</td>\n",
       "      <td>51.485125</td>\n",
       "      <td>Darkness - lights lit</td>\n",
       "      <td>Kensington and Chelsea</td>\n",
       "      <td>-0.167129</td>\n",
       "      <td>1</td>\n",
       "      <td>1</td>\n",
       "      <td>Dry</td>\n",
       "      <td>One way street</td>\n",
       "      <td>Urban</td>\n",
       "      <td>Fine no high winds</td>\n",
       "      <td>Car</td>\n",
       "    </tr>\n",
       "    <tr>\n",
       "      <th>17</th>\n",
       "      <td>200701BS68160</td>\n",
       "      <td>Serious</td>\n",
       "      <td>10/10/2019</td>\n",
       "      <td>51.508445</td>\n",
       "      <td>Daylight</td>\n",
       "      <td>Kensington and Chelsea</td>\n",
       "      <td>-0.215622</td>\n",
       "      <td>1</td>\n",
       "      <td>1</td>\n",
       "      <td>Dry</td>\n",
       "      <td>Single carriageway</td>\n",
       "      <td>Urban</td>\n",
       "      <td>Fine no high winds</td>\n",
       "      <td>Car</td>\n",
       "    </tr>\n",
       "    <tr>\n",
       "      <th>20</th>\n",
       "      <td>200701BS68301</td>\n",
       "      <td>Fatal</td>\n",
       "      <td>24-10-2019</td>\n",
       "      <td>51.505996</td>\n",
       "      <td>Daylight</td>\n",
       "      <td>Kensington and Chelsea</td>\n",
       "      <td>-0.214277</td>\n",
       "      <td>1</td>\n",
       "      <td>1</td>\n",
       "      <td>Dry</td>\n",
       "      <td>Single carriageway</td>\n",
       "      <td>Urban</td>\n",
       "      <td>Fine no high winds</td>\n",
       "      <td>Car</td>\n",
       "    </tr>\n",
       "    <tr>\n",
       "      <th>21</th>\n",
       "      <td>200701BS68302</td>\n",
       "      <td>Fatal</td>\n",
       "      <td>24-11-2019</td>\n",
       "      <td>51.486795</td>\n",
       "      <td>Daylight</td>\n",
       "      <td>Kensington and Chelsea</td>\n",
       "      <td>-0.170375</td>\n",
       "      <td>5</td>\n",
       "      <td>1</td>\n",
       "      <td>Dry</td>\n",
       "      <td>Single carriageway</td>\n",
       "      <td>Urban</td>\n",
       "      <td>Fine no high winds</td>\n",
       "      <td>Car</td>\n",
       "    </tr>\n",
       "    <tr>\n",
       "      <th>...</th>\n",
       "      <td>...</td>\n",
       "      <td>...</td>\n",
       "      <td>...</td>\n",
       "      <td>...</td>\n",
       "      <td>...</td>\n",
       "      <td>...</td>\n",
       "      <td>...</td>\n",
       "      <td>...</td>\n",
       "      <td>...</td>\n",
       "      <td>...</td>\n",
       "      <td>...</td>\n",
       "      <td>...</td>\n",
       "      <td>...</td>\n",
       "      <td>...</td>\n",
       "    </tr>\n",
       "    <tr>\n",
       "      <th>660010</th>\n",
       "      <td>201063DP04610</td>\n",
       "      <td>Serious</td>\n",
       "      <td>25-02-2022</td>\n",
       "      <td>52.514121</td>\n",
       "      <td>Daylight</td>\n",
       "      <td>Powys</td>\n",
       "      <td>-3.316199</td>\n",
       "      <td>1</td>\n",
       "      <td>1</td>\n",
       "      <td>Dry</td>\n",
       "      <td>Single carriageway</td>\n",
       "      <td>Urban</td>\n",
       "      <td>Fine no high winds</td>\n",
       "      <td>Car</td>\n",
       "    </tr>\n",
       "    <tr>\n",
       "      <th>660066</th>\n",
       "      <td>201063DP10210</td>\n",
       "      <td>Serious</td>\n",
       "      <td>1/5/2022</td>\n",
       "      <td>51.767977</td>\n",
       "      <td>Darkness - lights lit</td>\n",
       "      <td>Powys</td>\n",
       "      <td>-3.777719</td>\n",
       "      <td>1</td>\n",
       "      <td>1</td>\n",
       "      <td>Wet or damp</td>\n",
       "      <td>Single carriageway</td>\n",
       "      <td>Urban</td>\n",
       "      <td>Raining no high winds</td>\n",
       "      <td>Car</td>\n",
       "    </tr>\n",
       "    <tr>\n",
       "      <th>660182</th>\n",
       "      <td>201063DP22110</td>\n",
       "      <td>Serious</td>\n",
       "      <td>26-07-2022</td>\n",
       "      <td>52.505760</td>\n",
       "      <td>Daylight</td>\n",
       "      <td>Powys</td>\n",
       "      <td>-3.324201</td>\n",
       "      <td>1</td>\n",
       "      <td>1</td>\n",
       "      <td>Dry</td>\n",
       "      <td>Single carriageway</td>\n",
       "      <td>Urban</td>\n",
       "      <td>Fine no high winds</td>\n",
       "      <td>Van / Goods 3.5 tonnes mgw or under</td>\n",
       "    </tr>\n",
       "    <tr>\n",
       "      <th>660311</th>\n",
       "      <td>201063DP35410</td>\n",
       "      <td>Fatal</td>\n",
       "      <td>28-10-2022</td>\n",
       "      <td>52.515278</td>\n",
       "      <td>Darkness - lights lit</td>\n",
       "      <td>Powys</td>\n",
       "      <td>-3.317265</td>\n",
       "      <td>1</td>\n",
       "      <td>1</td>\n",
       "      <td>Dry</td>\n",
       "      <td>Single carriageway</td>\n",
       "      <td>Urban</td>\n",
       "      <td>Fine no high winds</td>\n",
       "      <td>Other vehicle</td>\n",
       "    </tr>\n",
       "    <tr>\n",
       "      <th>660382</th>\n",
       "      <td>201063DP42910</td>\n",
       "      <td>Slight</td>\n",
       "      <td>21-12-2022</td>\n",
       "      <td>52.514222</td>\n",
       "      <td>Daylight</td>\n",
       "      <td>Powys</td>\n",
       "      <td>-3.315171</td>\n",
       "      <td>1</td>\n",
       "      <td>1</td>\n",
       "      <td>Snow</td>\n",
       "      <td>One way street</td>\n",
       "      <td>Urban</td>\n",
       "      <td>Snowing no high winds</td>\n",
       "      <td>Car</td>\n",
       "    </tr>\n",
       "  </tbody>\n",
       "</table>\n",
       "<p>125030 rows × 14 columns</p>\n",
       "</div>"
      ],
      "text/plain": [
       "                Index Accident_Severity Accident Date   Latitude  \\\n",
       "12      200701BS67773           Serious    12/11/2019  51.500823   \n",
       "14      200701BS67859            Slight     1/11/2019  51.485125   \n",
       "17      200701BS68160           Serious    10/10/2019  51.508445   \n",
       "20      200701BS68301             Fatal    24-10-2019  51.505996   \n",
       "21      200701BS68302             Fatal    24-11-2019  51.486795   \n",
       "...               ...               ...           ...        ...   \n",
       "660010  201063DP04610           Serious    25-02-2022  52.514121   \n",
       "660066  201063DP10210           Serious      1/5/2022  51.767977   \n",
       "660182  201063DP22110           Serious    26-07-2022  52.505760   \n",
       "660311  201063DP35410             Fatal    28-10-2022  52.515278   \n",
       "660382  201063DP42910            Slight    21-12-2022  52.514222   \n",
       "\n",
       "             Light_Conditions           District Area  Longitude  \\\n",
       "12                   Daylight  Kensington and Chelsea  -0.193587   \n",
       "14      Darkness - lights lit  Kensington and Chelsea  -0.167129   \n",
       "17                   Daylight  Kensington and Chelsea  -0.215622   \n",
       "20                   Daylight  Kensington and Chelsea  -0.214277   \n",
       "21                   Daylight  Kensington and Chelsea  -0.170375   \n",
       "...                       ...                     ...        ...   \n",
       "660010               Daylight                   Powys  -3.316199   \n",
       "660066  Darkness - lights lit                   Powys  -3.777719   \n",
       "660182               Daylight                   Powys  -3.324201   \n",
       "660311  Darkness - lights lit                   Powys  -3.317265   \n",
       "660382               Daylight                   Powys  -3.315171   \n",
       "\n",
       "        Number_of_Casualties  Number_of_Vehicles Road_Surface_Conditions  \\\n",
       "12                         1                   1                     Dry   \n",
       "14                         1                   1                     Dry   \n",
       "17                         1                   1                     Dry   \n",
       "20                         1                   1                     Dry   \n",
       "21                         5                   1                     Dry   \n",
       "...                      ...                 ...                     ...   \n",
       "660010                     1                   1                     Dry   \n",
       "660066                     1                   1             Wet or damp   \n",
       "660182                     1                   1                     Dry   \n",
       "660311                     1                   1                     Dry   \n",
       "660382                     1                   1                    Snow   \n",
       "\n",
       "                 Road_Type Urban_or_Rural_Area     Weather_Conditions  \\\n",
       "12      Single carriageway               Urban     Fine no high winds   \n",
       "14          One way street               Urban     Fine no high winds   \n",
       "17      Single carriageway               Urban     Fine no high winds   \n",
       "20      Single carriageway               Urban     Fine no high winds   \n",
       "21      Single carriageway               Urban     Fine no high winds   \n",
       "...                    ...                 ...                    ...   \n",
       "660010  Single carriageway               Urban     Fine no high winds   \n",
       "660066  Single carriageway               Urban  Raining no high winds   \n",
       "660182  Single carriageway               Urban     Fine no high winds   \n",
       "660311  Single carriageway               Urban     Fine no high winds   \n",
       "660382      One way street               Urban  Snowing no high winds   \n",
       "\n",
       "                               Vehicle_Type  \n",
       "12               Motorcycle 125cc and under  \n",
       "14                                      Car  \n",
       "17                                      Car  \n",
       "20                                      Car  \n",
       "21                                      Car  \n",
       "...                                     ...  \n",
       "660010                                  Car  \n",
       "660066                                  Car  \n",
       "660182  Van / Goods 3.5 tonnes mgw or under  \n",
       "660311                        Other vehicle  \n",
       "660382                                  Car  \n",
       "\n",
       "[125030 rows x 14 columns]"
      ]
     },
     "execution_count": 35,
     "metadata": {},
     "output_type": "execute_result"
    }
   ],
   "source": [
    "urban_single = accident[(accident[\"Urban_or_Rural_Area\"] == \"Urban\") & \n",
    "                        (accident[\"Number_of_Vehicles\"] == 1)]\n",
    "urban_single\n"
   ]
  },
  {
   "cell_type": "markdown",
   "id": "cb63ad7d-38da-49f7-991d-8892d91c428e",
   "metadata": {},
   "source": [
    "<h3>Insight: Single-vehicle crashes in urban areas may involve pedestrians or cyclists.</h3>"
   ]
  },
  {
   "cell_type": "markdown",
   "id": "80bd52d9-66dd-4a9b-80a8-94d3ad29f79e",
   "metadata": {},
   "source": [
    "<h2>QUESTION 3:What is the average number of casualties during different light conditions?</h2>"
   ]
  },
  {
   "cell_type": "code",
   "execution_count": 36,
   "id": "4ad94725-6f36-421f-809c-6bec08adf1a7",
   "metadata": {},
   "outputs": [
    {
     "data": {
      "text/plain": [
       "Light_Conditions\n",
       "Darkness - lighting unknown    1.306447\n",
       "Darkness - lights lit          1.369374\n",
       "Darkness - lights unlit        1.331105\n",
       "Darkness - no lighting         1.541657\n",
       "Daylight                       1.340309\n",
       "Name: Number_of_Casualties, dtype: float64"
      ]
     },
     "execution_count": 36,
     "metadata": {},
     "output_type": "execute_result"
    }
   ],
   "source": [
    "avg_casualties_light = accident.groupby(\"Light_Conditions\")[\"Number_of_Casualties\"].mean()\n",
    "avg_casualties_light\n"
   ]
  },
  {
   "cell_type": "markdown",
   "id": "b2418048-d9be-41f2-a035-df7b65cd58fb",
   "metadata": {},
   "source": [
    "<H3>Insight: Darkness usually increases the average casualties compared to daylight. This highlights the importance of visibility in road safety.</H3>"
   ]
  },
  {
   "cell_type": "markdown",
   "id": "1e4c5689-908b-45cd-a3e0-0006fb2680c0",
   "metadata": {},
   "source": [
    "<h2>QUESTION 4: Which vehicle type is most often involved in accidents on rural roads?</h2>"
   ]
  },
  {
   "cell_type": "code",
   "execution_count": 37,
   "id": "951548f2-8cca-4429-97af-c171acfc1655",
   "metadata": {},
   "outputs": [
    {
     "data": {
      "text/plain": [
       "Vehicle_Type\n",
       "Agricultural vehicle                        675\n",
       "Bus or coach (17 or more pass seats)       9025\n",
       "Car                                      181922\n",
       "Data missing or out of range                  0\n",
       "Goods 7.5 tonnes mgw and over              6156\n",
       "Goods over 3.5t. and under 7.5t            2232\n",
       "Minibus (8 - 16 passenger seats)            718\n",
       "Motorcycle 125cc and under                 5023\n",
       "Motorcycle 50cc and under                  2710\n",
       "Motorcycle over 125cc and up to 500cc      2674\n",
       "Motorcycle over 500cc                      8957\n",
       "Other vehicle                              1994\n",
       "Pedal cycle                                  70\n",
       "Ridden horse                                  1\n",
       "Taxi/Private hire car                      4677\n",
       "Van / Goods 3.5 tonnes mgw or under       12156\n",
       "Name: Index, dtype: int64"
      ]
     },
     "execution_count": 37,
     "metadata": {},
     "output_type": "execute_result"
    }
   ],
   "source": [
    "rural_vehicles = accident[accident[\"Urban_or_Rural_Area\"] == \"Rural\"]\n",
    "vehicle_rural_count = rural_vehicles.groupby(\"Vehicle_Type\")[\"Index\"].count()\n",
    "vehicle_rural_count"
   ]
  },
  {
   "cell_type": "markdown",
   "id": "f26fc8b8-4849-489c-93e9-b1e237e99cb3",
   "metadata": {},
   "source": [
    "<h3>Insight: Certain vehicles, like cars or heavy goods vehicles, may dominate rural crashes. This reflects traffic composition and road usage outside cities.</h3>"
   ]
  },
  {
   "cell_type": "markdown",
   "id": "ec1eb1a8-4ea1-4955-8879-a40bd9d35a1e",
   "metadata": {},
   "source": [
    "<h2>Question 5: Which road type has the highest average casualties?</h2>"
   ]
  },
  {
   "cell_type": "code",
   "execution_count": 38,
   "id": "de232d8e-2b94-4018-8f14-aacf9d461c2c",
   "metadata": {},
   "outputs": [
    {
     "data": {
      "text/plain": [
       "Road_Type\n",
       "Dual carriageway      1.477279\n",
       "One way street        1.192713\n",
       "Roundabout            1.274891\n",
       "Single carriageway    1.343788\n",
       "Slip road             1.423661\n",
       "Name: Number_of_Casualties, dtype: float64"
      ]
     },
     "execution_count": 38,
     "metadata": {},
     "output_type": "execute_result"
    }
   ],
   "source": [
    "avg_casualties_road = accident.groupby(\"Road_Type\")[\"Number_of_Casualties\"].mean()\n",
    "avg_casualties_road"
   ]
  },
  {
   "cell_type": "markdown",
   "id": "0e133144-836d-403e-b02d-fbc0ce218599",
   "metadata": {},
   "source": [
    "<h3>Insight: Motorways and dual carriageways usually show higher averages. Road type clearly affects how severe accidents can be.</h3>"
   ]
  },
  {
   "cell_type": "markdown",
   "id": "06e2e0f4-476f-4c8d-95d2-baeae7158bea",
   "metadata": {},
   "source": [
    "<h2>Question 6: What is the average number of casualties in each district area?</h2>"
   ]
  },
  {
   "cell_type": "code",
   "execution_count": 39,
   "id": "70d12286-960f-4768-b284-30984667e442",
   "metadata": {},
   "outputs": [
    {
     "data": {
      "text/plain": [
       "District Area\n",
       "Aberdeen City    1.139834\n",
       "Aberdeenshire    1.310363\n",
       "Adur             1.319871\n",
       "Allerdale        1.474291\n",
       "Alnwick          1.512931\n",
       "                   ...   \n",
       "Wychavon         1.427627\n",
       "Wycombe          1.412377\n",
       "Wyre             1.378029\n",
       "Wyre Forest      1.382869\n",
       "York             1.293094\n",
       "Name: Number_of_Casualties, Length: 422, dtype: float64"
      ]
     },
     "execution_count": 39,
     "metadata": {},
     "output_type": "execute_result"
    }
   ],
   "source": [
    "avg_casualties_district = accident.groupby(\"District Area\")[\"Number_of_Casualties\"].mean()\n",
    "avg_casualties_district"
   ]
  },
  {
   "cell_type": "markdown",
   "id": "048d6ab7-feea-4c38-8fb5-a0b41ee3acfd",
   "metadata": {},
   "source": [
    "<H3>Insight: Some districts have consistently higher averages. This might be due to population density or busy traffic networks.</H3>"
   ]
  },
  {
   "cell_type": "markdown",
   "id": "4476057d-c363-4ad9-a27e-94a39a349485",
   "metadata": {},
   "source": [
    "<h2>Question 7: Which district area has the highest number of fatal accidents?</h2>"
   ]
  },
  {
   "cell_type": "code",
   "execution_count": 40,
   "id": "34f5275c-860c-4069-8d04-653341bebe06",
   "metadata": {},
   "outputs": [
    {
     "data": {
      "text/plain": [
       "District Area\n",
       "Aberdeen City    12\n",
       "Aberdeenshire    66\n",
       "Adur              8\n",
       "Allerdale        24\n",
       "Alnwick           6\n",
       "                 ..\n",
       "Wychavon         30\n",
       "Wycombe          20\n",
       "Wyre             15\n",
       "Wyre Forest      22\n",
       "York             21\n",
       "Name: Index, Length: 422, dtype: int64"
      ]
     },
     "execution_count": 40,
     "metadata": {},
     "output_type": "execute_result"
    }
   ],
   "source": [
    "fatal_district = accident[accident[\"Accident_Severity\"] == \"Fatal\"]\n",
    "fatal_district_count = fatal_district.groupby(\"District Area\")[\"Index\"].count()\n",
    "fatal_district_count\n"
   ]
  },
  {
   "cell_type": "markdown",
   "id": "cd107f6f-c537-4ed9-a591-be1d65f65481",
   "metadata": {},
   "source": [
    "<H3>Insight: Some districts record more fatal crashes than others. This shows regional differences in road safety.</H3>"
   ]
  },
  {
   "cell_type": "markdown",
   "id": "9f091eae-0ca4-49fa-a1cd-57fbaa414509",
   "metadata": {},
   "source": [
    "<h2>Question 8: What is the average number of casualties per accident in rural vs. urban areas?</h2>"
   ]
  },
  {
   "cell_type": "code",
   "execution_count": 41,
   "id": "5ef08591-8134-4fbd-ba49-68912d04511d",
   "metadata": {},
   "outputs": [
    {
     "data": {
      "text/plain": [
       "Urban_or_Rural_Area\n",
       "Rural          1.479204\n",
       "Unallocated    1.181818\n",
       "Urban          1.287807\n",
       "Name: Number_of_Casualties, dtype: float64"
      ]
     },
     "execution_count": 41,
     "metadata": {},
     "output_type": "execute_result"
    }
   ],
   "source": [
    "avg_casualties_area = accident.groupby(\"Urban_or_Rural_Area\")[\"Number_of_Casualties\"].mean()\n",
    "avg_casualties_area"
   ]
  },
  {
   "cell_type": "markdown",
   "id": "d34b44a7-e547-4f96-b8a5-ca99023ccea4",
   "metadata": {},
   "source": [
    "<H3>Insight: Rural accidents tend to have higher average casualties than urban ones. Speed and emergency response time may explain this.</H3>"
   ]
  },
  {
   "cell_type": "markdown",
   "id": "30df8a67-79dd-4f9e-b9e6-daadfbecfa39",
   "metadata": {},
   "source": [
    "<h2>Question 9: Which light condition has the highest number of fatal accidents?</h2>"
   ]
  },
  {
   "cell_type": "code",
   "execution_count": 42,
   "id": "a6278254-fedf-4da2-aeba-54b680358ac8",
   "metadata": {},
   "outputs": [
    {
     "data": {
      "text/plain": [
       "Light_Conditions\n",
       "Darkness - lighting unknown      68\n",
       "Darkness - lights lit          1860\n",
       "Darkness - lights unlit          45\n",
       "Darkness - no lighting         1612\n",
       "Daylight                       5076\n",
       "Name: Index, dtype: int64"
      ]
     },
     "execution_count": 42,
     "metadata": {},
     "output_type": "execute_result"
    }
   ],
   "source": [
    "fatal_light = accident[accident[\"Accident_Severity\"] == \"Fatal\"]\n",
    "fatal_light_count = fatal_light.groupby(\"Light_Conditions\")[\"Index\"].count()\n",
    "fatal_light_count"
   ]
  },
  {
   "cell_type": "markdown",
   "id": "347d8534-badd-4921-b63b-d02e347d5429",
   "metadata": {},
   "source": [
    "<H3>Insight: Fatal accidents are often higher in darkness. Visibility plays a crucial role in accident outcomes.</H3>"
   ]
  },
  {
   "cell_type": "markdown",
   "id": "97730960-1129-4ac1-8dad-4517f784466e",
   "metadata": {},
   "source": [
    "<h2>Question 10: Which weather condition leads to the highest number of serious accidents?</h2>"
   ]
  },
  {
   "cell_type": "markdown",
   "id": "508287e6-e081-4ed1-9a6c-f88219b89c28",
   "metadata": {},
   "source": [
    "serious_weather = accident[accident[\"Accident_Severity\"] == \"Serious\"]\n",
    "serious_weather_count = serious_weather.groupby(\"Weather_Conditions\")[\"Index\"].count()\n",
    "serious_weather_count"
   ]
  },
  {
   "cell_type": "markdown",
   "id": "96263bf6-c305-447f-9a23-13223b8bd69f",
   "metadata": {},
   "source": [
    "<H3>Insight: Serious crashes may peak in rain or fog. This highlights how weather increases road danger.</H3>"
   ]
  },
  {
   "cell_type": "markdown",
   "id": "c0b1c62a-5cae-4dd7-a0ce-57784308b922",
   "metadata": {},
   "source": [
    "<h2>Question 11: What is the average number of casualties by road surface conditions?</h2>"
   ]
  },
  {
   "cell_type": "code",
   "execution_count": 43,
   "id": "c454a1b1-4c48-41eb-99f1-9b233166297f",
   "metadata": {},
   "outputs": [
    {
     "data": {
      "text/plain": [
       "Road_Surface_Conditions\n",
       "Dry                     1.334545\n",
       "Flood over 3cm. deep    1.495575\n",
       "Frost or ice            1.348815\n",
       "Snow                    1.359593\n",
       "Wet or damp             1.411064\n",
       "Name: Number_of_Casualties, dtype: float64"
      ]
     },
     "execution_count": 43,
     "metadata": {},
     "output_type": "execute_result"
    }
   ],
   "source": [
    "avg_casualties_surface = accident.groupby(\"Road_Surface_Conditions\")[\"Number_of_Casualties\"].mean()\n",
    "avg_casualties_surface"
   ]
  },
  {
   "cell_type": "markdown",
   "id": "fb427fa7-a63f-450a-911f-224021da2bfa",
   "metadata": {},
   "source": [
    "Insight: Slippery surfaces (like wet or icy roads) generally show higher averages. This highlights the danger of poor traction."
   ]
  },
  {
   "cell_type": "markdown",
   "id": "ba1ede69-4c29-4ba5-9e3e-6f029b468bb2",
   "metadata": {},
   "source": [
    "<h2>Question 12: Which vehicle type is most involved in fatal accidents?</h2>"
   ]
  },
  {
   "cell_type": "code",
   "execution_count": 44,
   "id": "448f5eb0-29de-4948-ba84-520113ea0549",
   "metadata": {},
   "outputs": [
    {
     "data": {
      "text/plain": [
       "Vehicle_Type\n",
       "Agricultural vehicle                       21\n",
       "Bus or coach (17 or more pass seats)      325\n",
       "Car                                      6577\n",
       "Data missing or out of range                0\n",
       "Goods 7.5 tonnes mgw and over             216\n",
       "Goods over 3.5t. and under 7.5t            67\n",
       "Minibus (8 - 16 passenger seats)           29\n",
       "Motorcycle 125cc and under                189\n",
       "Motorcycle 50cc and under                  95\n",
       "Motorcycle over 125cc and up to 500cc     105\n",
       "Motorcycle over 500cc                     339\n",
       "Other vehicle                              70\n",
       "Pedal cycle                                 6\n",
       "Ridden horse                                0\n",
       "Taxi/Private hire car                     155\n",
       "Van / Goods 3.5 tonnes mgw or under       467\n",
       "Name: Index, dtype: int64"
      ]
     },
     "execution_count": 44,
     "metadata": {},
     "output_type": "execute_result"
    }
   ],
   "source": [
    "fatal_accidents = accident[accident[\"Accident_Severity\"] == \"Fatal\"]\n",
    "fatal_vehicle_count = fatal_accidents.groupby(\"Vehicle_Type\")[\"Index\"].count()\n",
    "fatal_vehicle_count"
   ]
  },
  {
   "cell_type": "markdown",
   "id": "0cc16f4b-4d93-44a6-9149-c8d5e0eb6caf",
   "metadata": {},
   "source": [
    "<H3>Insight: Cars usually dominate fatal accidents because they are the most common. However, heavy vehicles may also appear more often than expected.</H3>"
   ]
  },
  {
   "cell_type": "markdown",
   "id": "6c74156b-2386-4098-91ac-f03d29a5b91d",
   "metadata": {},
   "source": [
    "<h2>Question 13: Which road type has the most accidents in rural areas?</h2>"
   ]
  },
  {
   "cell_type": "code",
   "execution_count": 45,
   "id": "773d98e6-67d4-4135-b50c-850bca91edd8",
   "metadata": {},
   "outputs": [
    {
     "data": {
      "text/plain": [
       "Road_Type\n",
       "Dual carriageway       48715\n",
       "One way street          1193\n",
       "Roundabout             15545\n",
       "Single carriageway    169243\n",
       "Slip road               4294\n",
       "Name: Index, dtype: int64"
      ]
     },
     "execution_count": 45,
     "metadata": {},
     "output_type": "execute_result"
    }
   ],
   "source": [
    "rural_accidents = accident[accident[\"Urban_or_Rural_Area\"] == \"Rural\"]\n",
    "rural_road_count = rural_accidents.groupby(\"Road_Type\")[\"Index\"].count()\n",
    "rural_road_count"
   ]
  },
  {
   "cell_type": "markdown",
   "id": "7db35017-6f63-4b56-bf5b-c86369917e5b",
   "metadata": {},
   "source": [
    "<H3>Insight: Single carriageways often dominate rural crashes. This reflects the layout of most rural roads.</H3>"
   ]
  },
  {
   "cell_type": "markdown",
   "id": "1ec8a270-629b-49a0-838f-d187da24988f",
   "metadata": {},
   "source": [
    "<h2>Question 14:Which district area has the highest average number of vehicles in accidents during fine weather?</h2>"
   ]
  },
  {
   "cell_type": "code",
   "execution_count": 46,
   "id": "48eea630-3ce0-4178-bd24-3b90719eda61",
   "metadata": {},
   "outputs": [
    {
     "data": {
      "text/plain": [
       "District Area\n",
       "Aberdeen City   NaN\n",
       "Aberdeenshire   NaN\n",
       "Adur            NaN\n",
       "Allerdale       NaN\n",
       "Alnwick         NaN\n",
       "                 ..\n",
       "Wychavon        NaN\n",
       "Wycombe         NaN\n",
       "Wyre            NaN\n",
       "Wyre Forest     NaN\n",
       "York            NaN\n",
       "Name: Number_of_Vehicles, Length: 422, dtype: float64"
      ]
     },
     "execution_count": 46,
     "metadata": {},
     "output_type": "execute_result"
    }
   ],
   "source": [
    "fine_accidents = accident[accident[\"Weather_Conditions\"] == \"Fine\"]\n",
    "avg_fine_district = fine_accidents.groupby(\"District Area\")[\"Number_of_Vehicles\"].mean()\n",
    "avg_fine_district"
   ]
  },
  {
   "cell_type": "markdown",
   "id": "27f11211-4f87-4c61-a45c-71357f66dde2",
   "metadata": {},
   "source": [
    "<H3>Insight: Some districts have larger vehicle crashes even in good weather. This may be linked to higher traffic density or road design.</H3>"
   ]
  },
  {
   "cell_type": "markdown",
   "id": "d79234b6-cbdd-4abc-b55e-8ac5d7c1f023",
   "metadata": {},
   "source": [
    "<h2>Question 15:What is the correlation between number of vehicles and number of casualties?</h2>"
   ]
  },
  {
   "cell_type": "code",
   "execution_count": 47,
   "id": "fad0eb6c-19ad-4a2e-98f9-cfcccbf5fbf5",
   "metadata": {},
   "outputs": [
    {
     "data": {
      "text/plain": [
       "np.float64(0.22888886126927627)"
      ]
     },
     "execution_count": 47,
     "metadata": {},
     "output_type": "execute_result"
    }
   ],
   "source": [
    "vehicle_casualty_corr = accident[\"Number_of_Vehicles\"].corr(accident[\"Number_of_Casualties\"])\n",
    "vehicle_casualty_corr"
   ]
  },
  {
   "cell_type": "markdown",
   "id": "d462317a-9306-4dab-acab-a9ad93ec2598",
   "metadata": {},
   "source": [
    "<H3>Insight: A positive correlation means more vehicles often lead to more casualties.</H3>\n"
   ]
  },
  {
   "cell_type": "markdown",
   "id": "f1cb462f-fd0d-4c87-8f03-642ae78036e6",
   "metadata": {},
   "source": [
    "<h2>Question 16 : Which light condition has the lowest average casualties?</h2>"
   ]
  },
  {
   "cell_type": "code",
   "execution_count": 48,
   "id": "8119a3d3-b841-4220-a413-c796cabdd9a2",
   "metadata": {},
   "outputs": [
    {
     "data": {
      "text/plain": [
       "Light_Conditions\n",
       "Darkness - lighting unknown    1.306447\n",
       "Darkness - lights lit          1.369374\n",
       "Darkness - lights unlit        1.331105\n",
       "Darkness - no lighting         1.541657\n",
       "Daylight                       1.340309\n",
       "Name: Number_of_Casualties, dtype: float64"
      ]
     },
     "execution_count": 48,
     "metadata": {},
     "output_type": "execute_result"
    }
   ],
   "source": [
    "avg_casualties_light = accident.groupby(\"Light_Conditions\")[\"Number_of_Casualties\"].mean()\n",
    "avg_casualties_light"
   ]
  },
  {
   "cell_type": "markdown",
   "id": "a9453b77-05d4-440b-a5f7-b299dc490b49",
   "metadata": {},
   "source": [
    "<H3>Insight: Daylight accidents often have fewer casualties per crash compared to dark or poor lighting conditions. Light plays a critical safety role.</H3>"
   ]
  },
  {
   "cell_type": "markdown",
   "id": "e2484541-02e6-4ad1-a744-c56d7acf0bc7",
   "metadata": {},
   "source": [
    "<h2>Question 17 : What is the correlation between latitude, longitude, and vehicles in fatal accidents only? </h2>"
   ]
  },
  {
   "cell_type": "code",
   "execution_count": 49,
   "id": "28dd91b0-c578-4e4f-8f4f-494680b70e54",
   "metadata": {},
   "outputs": [
    {
     "data": {
      "text/html": [
       "<div>\n",
       "<style scoped>\n",
       "    .dataframe tbody tr th:only-of-type {\n",
       "        vertical-align: middle;\n",
       "    }\n",
       "\n",
       "    .dataframe tbody tr th {\n",
       "        vertical-align: top;\n",
       "    }\n",
       "\n",
       "    .dataframe thead th {\n",
       "        text-align: right;\n",
       "    }\n",
       "</style>\n",
       "<table border=\"1\" class=\"dataframe\">\n",
       "  <thead>\n",
       "    <tr style=\"text-align: right;\">\n",
       "      <th></th>\n",
       "      <th>Latitude</th>\n",
       "      <th>Longitude</th>\n",
       "      <th>Number_of_Vehicles</th>\n",
       "    </tr>\n",
       "  </thead>\n",
       "  <tbody>\n",
       "    <tr>\n",
       "      <th>Latitude</th>\n",
       "      <td>1.000000</td>\n",
       "      <td>-0.388630</td>\n",
       "      <td>-0.029487</td>\n",
       "    </tr>\n",
       "    <tr>\n",
       "      <th>Longitude</th>\n",
       "      <td>-0.388630</td>\n",
       "      <td>1.000000</td>\n",
       "      <td>0.024267</td>\n",
       "    </tr>\n",
       "    <tr>\n",
       "      <th>Number_of_Vehicles</th>\n",
       "      <td>-0.029487</td>\n",
       "      <td>0.024267</td>\n",
       "      <td>1.000000</td>\n",
       "    </tr>\n",
       "  </tbody>\n",
       "</table>\n",
       "</div>"
      ],
      "text/plain": [
       "                    Latitude  Longitude  Number_of_Vehicles\n",
       "Latitude            1.000000  -0.388630           -0.029487\n",
       "Longitude          -0.388630   1.000000            0.024267\n",
       "Number_of_Vehicles -0.029487   0.024267            1.000000"
      ]
     },
     "execution_count": 49,
     "metadata": {},
     "output_type": "execute_result"
    }
   ],
   "source": [
    "fatal_corr = accident[accident[\"Accident_Severity\"] == \"Fatal\"][[\"Latitude\", \"Longitude\", \"Number_of_Vehicles\"]].corr()\n",
    "fatal_corr"
   ]
  },
  {
   "cell_type": "markdown",
   "id": "3410533c-2613-4723-8438-4d6a7fea2b76",
   "metadata": {},
   "source": [
    "<H3"
   ]
  },
  {
   "cell_type": "markdown",
   "id": "5c8eb4ef-b45f-418b-9560-1e4e30e511f8",
   "metadata": {},
   "source": [
    "<H3>Insight: Fatal accidents may cluster geographically, with some areas showing higher involvement of vehicles.</H3>"
   ]
  },
  {
   "cell_type": "markdown",
   "id": "384c164d-abe9-4aab-a93a-76d5f9af08e5",
   "metadata": {},
   "source": [
    "<h2>Question 18 : Do wet or icy road surfaces show higher average casualties compared to dry roads?</h2>"
   ]
  },
  {
   "cell_type": "code",
   "execution_count": 50,
   "id": "0ab63e5e-6184-4391-b09b-572d599c08ed",
   "metadata": {},
   "outputs": [
    {
     "data": {
      "text/plain": [
       "Road_Surface_Conditions\n",
       "Dry                     1.334545\n",
       "Flood over 3cm. deep    1.495575\n",
       "Frost or ice            1.348815\n",
       "Snow                    1.359593\n",
       "Wet or damp             1.411064\n",
       "Name: Number_of_Casualties, dtype: float64"
      ]
     },
     "execution_count": 50,
     "metadata": {},
     "output_type": "execute_result"
    }
   ],
   "source": [
    "avg_casualties_surface = accident.groupby(\"Road_Surface_Conditions\")[\"Number_of_Casualties\"].mean()\n",
    "avg_casualties_surface"
   ]
  },
  {
   "cell_type": "markdown",
   "id": "a763ece3-778c-4a85-8af4-3ec3a5d64f40",
   "metadata": {},
   "source": [
    "<H3>Insight: Slippery surfaces like wet or icy roads consistently report higher casualty averages, highlighting risk.</H3>"
   ]
  },
  {
   "cell_type": "markdown",
   "id": "1f59e265-a725-4369-8b1b-54c7a642f3a4",
   "metadata": {},
   "source": [
    "<h2>Question 19:What is the average number of vehicles involved in accidents for each severity level?</h2>"
   ]
  },
  {
   "cell_type": "code",
   "execution_count": 53,
   "id": "5acd2e0b-80dd-4ecb-b1f2-43b88701df25",
   "metadata": {},
   "outputs": [
    {
     "data": {
      "text/plain": [
       "Accident_Severity\n",
       "Fatal      1.786976\n",
       "Serious    1.678327\n",
       "Slight     1.855864\n",
       "Name: Number_of_Vehicles, dtype: float64"
      ]
     },
     "execution_count": 53,
     "metadata": {},
     "output_type": "execute_result"
    }
   ],
   "source": [
    "avg_vehicles_severity = accident.groupby(\"Accident_Severity\")[\"Number_of_Vehicles\"].mean()\n",
    "avg_vehicles_severity"
   ]
  },
  {
   "cell_type": "markdown",
   "id": "b66f6237-fa6e-4af8-a9c3-64a56f0102b9",
   "metadata": {},
   "source": [
    "<H3>Insight: Insight: Fatal accidents often involve fewer vehicles (single-car crashes), while slight accidents usually involve more.</H3>"
   ]
  },
  {
   "cell_type": "markdown",
   "id": "9539aa52-acc5-41d0-863f-26a69b7682bb",
   "metadata": {},
   "source": [
    "<h2>Question 20:Do northern districts (higher latitude) report higher casualties per accident than southern ones?</h2>"
   ]
  },
  {
   "cell_type": "code",
   "execution_count": 54,
   "id": "c11b0ae6-a9f5-40c7-8c0f-0544f0b6bd03",
   "metadata": {},
   "outputs": [
    {
     "data": {
      "text/html": [
       "<div>\n",
       "<style scoped>\n",
       "    .dataframe tbody tr th:only-of-type {\n",
       "        vertical-align: middle;\n",
       "    }\n",
       "\n",
       "    .dataframe tbody tr th {\n",
       "        vertical-align: top;\n",
       "    }\n",
       "\n",
       "    .dataframe thead th {\n",
       "        text-align: right;\n",
       "    }\n",
       "</style>\n",
       "<table border=\"1\" class=\"dataframe\">\n",
       "  <thead>\n",
       "    <tr style=\"text-align: right;\">\n",
       "      <th></th>\n",
       "      <th>Latitude</th>\n",
       "      <th>Number_of_Casualties</th>\n",
       "    </tr>\n",
       "  </thead>\n",
       "  <tbody>\n",
       "    <tr>\n",
       "      <th>Latitude</th>\n",
       "      <td>1.000000</td>\n",
       "      <td>0.032201</td>\n",
       "    </tr>\n",
       "    <tr>\n",
       "      <th>Number_of_Casualties</th>\n",
       "      <td>0.032201</td>\n",
       "      <td>1.000000</td>\n",
       "    </tr>\n",
       "  </tbody>\n",
       "</table>\n",
       "</div>"
      ],
      "text/plain": [
       "                      Latitude  Number_of_Casualties\n",
       "Latitude              1.000000              0.032201\n",
       "Number_of_Casualties  0.032201              1.000000"
      ]
     },
     "execution_count": 54,
     "metadata": {},
     "output_type": "execute_result"
    }
   ],
   "source": [
    "corr_lat_casualties = accident[[\"Latitude\", \"Number_of_Casualties\"]].corr()\n",
    "corr_lat_casualties"
   ]
  },
  {
   "cell_type": "markdown",
   "id": "68beb581-382f-41b1-93eb-7658e241436e",
   "metadata": {},
   "source": [
    "<H3>Insight: A positive correlation suggests northern regions may have slightly higher casualty counts.</H3>"
   ]
  }
 ],
 "metadata": {
  "kernelspec": {
   "display_name": "Python 3 (ipykernel)",
   "language": "python",
   "name": "python3"
  },
  "language_info": {
   "codemirror_mode": {
    "name": "ipython",
    "version": 3
   },
   "file_extension": ".py",
   "mimetype": "text/x-python",
   "name": "python",
   "nbconvert_exporter": "python",
   "pygments_lexer": "ipython3",
   "version": "3.11.9"
  }
 },
 "nbformat": 4,
 "nbformat_minor": 5
}
